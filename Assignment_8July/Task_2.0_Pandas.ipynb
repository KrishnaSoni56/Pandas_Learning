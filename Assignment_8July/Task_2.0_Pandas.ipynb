{
 "cells": [
  {
   "cell_type": "code",
   "execution_count": 25,
   "id": "b167616d",
   "metadata": {},
   "outputs": [],
   "source": [
    "import pandas as pd\n",
    "import numpy as np\n"
   ]
  },
  {
   "cell_type": "code",
   "execution_count": 42,
   "id": "75fdad86",
   "metadata": {},
   "outputs": [],
   "source": [
    "sales_data = {\n",
    "    'OrderDate': ['04/18/2023', '04/28/2023', '04/19/2023', '04/10/2023', '04/20/2023', '04/17/2023',\n",
    "                  '04/15/2023', '04/15/2023', '04/19/2023', '04/19/2023', '04/10/2023', '04/20/2023',\n",
    "                  '04/17/2023', '04/15/2023', '04/15/2023', '04/19/2023',],\n",
    "    'Region': [\"East\",\"Central\" ,\"Central\",\"West\",\"East\",\"Central\",\"Central\",\"West\",\"East\",\"Central\",\n",
    "               \"West\",\"East\",\"Central\",\"Central\",\"West\",\"East\",],\n",
    "    'Representative': ['Sohan','Sohan', 'Priya', 'Preeti','Sohan','Meera','Sam','Ankush','Kreeti','Priya','Preeti',\n",
    "            'Mohit','Sohan','Sam','Ankush','Kreeti'],\n",
    "    'Items': ['Pencil','Binder','Pencil','Pen','Pencil','Binder','Pen','Pencil','Pen','Pencil','Pen',\n",
    "              'Pencil','Binder','Pen','Pencil','Pen'],\n",
    "    'Units': [95,50,36,27,56,60,75,90,32,36,27,56,60,75,90,32],\n",
    "    'Unit Cover': [1.99,19.99,4.99,19.99,2.99,4.99,1.99,4.99,1.99,4.99,19.99,2.99,4.99,1.99,4.99,1.99],\n",
    "    'Revenue' : [189.05,999.5,179.64,539.73,167.44,299.4,149.25,449.1,63.68,179.64,539.73,164.44,299.4,\n",
    "                 149.25,449.1,63.68],\n",
    "    'Sales': [8,4,3,5,8,2,1,4,3,1,2,1,2,5,6,4]\n",
    "}\n",
    "\n",
    "df = pd.DataFrame(sales_data)"
   ]
  },
  {
   "cell_type": "code",
   "execution_count": 43,
   "id": "edc070db",
   "metadata": {},
   "outputs": [
    {
     "data": {
      "text/html": [
       "<div>\n",
       "<style scoped>\n",
       "    .dataframe tbody tr th:only-of-type {\n",
       "        vertical-align: middle;\n",
       "    }\n",
       "\n",
       "    .dataframe tbody tr th {\n",
       "        vertical-align: top;\n",
       "    }\n",
       "\n",
       "    .dataframe thead th {\n",
       "        text-align: right;\n",
       "    }\n",
       "</style>\n",
       "<table border=\"1\" class=\"dataframe\">\n",
       "  <thead>\n",
       "    <tr style=\"text-align: right;\">\n",
       "      <th></th>\n",
       "      <th>OrderDate</th>\n",
       "      <th>Region</th>\n",
       "      <th>Representative</th>\n",
       "      <th>Items</th>\n",
       "      <th>Units</th>\n",
       "      <th>Unit Cover</th>\n",
       "      <th>Revenue</th>\n",
       "      <th>Sales</th>\n",
       "    </tr>\n",
       "  </thead>\n",
       "  <tbody>\n",
       "    <tr>\n",
       "      <th>0</th>\n",
       "      <td>04/18/2023</td>\n",
       "      <td>East</td>\n",
       "      <td>Sohan</td>\n",
       "      <td>Pencil</td>\n",
       "      <td>95</td>\n",
       "      <td>1.99</td>\n",
       "      <td>189.05</td>\n",
       "      <td>8</td>\n",
       "    </tr>\n",
       "    <tr>\n",
       "      <th>1</th>\n",
       "      <td>04/28/2023</td>\n",
       "      <td>Central</td>\n",
       "      <td>Sohan</td>\n",
       "      <td>Binder</td>\n",
       "      <td>50</td>\n",
       "      <td>19.99</td>\n",
       "      <td>999.50</td>\n",
       "      <td>4</td>\n",
       "    </tr>\n",
       "    <tr>\n",
       "      <th>2</th>\n",
       "      <td>04/19/2023</td>\n",
       "      <td>Central</td>\n",
       "      <td>Priya</td>\n",
       "      <td>Pencil</td>\n",
       "      <td>36</td>\n",
       "      <td>4.99</td>\n",
       "      <td>179.64</td>\n",
       "      <td>3</td>\n",
       "    </tr>\n",
       "    <tr>\n",
       "      <th>3</th>\n",
       "      <td>04/10/2023</td>\n",
       "      <td>West</td>\n",
       "      <td>Preeti</td>\n",
       "      <td>Pen</td>\n",
       "      <td>27</td>\n",
       "      <td>19.99</td>\n",
       "      <td>539.73</td>\n",
       "      <td>5</td>\n",
       "    </tr>\n",
       "    <tr>\n",
       "      <th>4</th>\n",
       "      <td>04/20/2023</td>\n",
       "      <td>East</td>\n",
       "      <td>Sohan</td>\n",
       "      <td>Pencil</td>\n",
       "      <td>56</td>\n",
       "      <td>2.99</td>\n",
       "      <td>167.44</td>\n",
       "      <td>8</td>\n",
       "    </tr>\n",
       "    <tr>\n",
       "      <th>5</th>\n",
       "      <td>04/17/2023</td>\n",
       "      <td>Central</td>\n",
       "      <td>Meera</td>\n",
       "      <td>Binder</td>\n",
       "      <td>60</td>\n",
       "      <td>4.99</td>\n",
       "      <td>299.40</td>\n",
       "      <td>2</td>\n",
       "    </tr>\n",
       "    <tr>\n",
       "      <th>6</th>\n",
       "      <td>04/15/2023</td>\n",
       "      <td>Central</td>\n",
       "      <td>Sam</td>\n",
       "      <td>Pen</td>\n",
       "      <td>75</td>\n",
       "      <td>1.99</td>\n",
       "      <td>149.25</td>\n",
       "      <td>1</td>\n",
       "    </tr>\n",
       "    <tr>\n",
       "      <th>7</th>\n",
       "      <td>04/15/2023</td>\n",
       "      <td>West</td>\n",
       "      <td>Ankush</td>\n",
       "      <td>Pencil</td>\n",
       "      <td>90</td>\n",
       "      <td>4.99</td>\n",
       "      <td>449.10</td>\n",
       "      <td>4</td>\n",
       "    </tr>\n",
       "    <tr>\n",
       "      <th>8</th>\n",
       "      <td>04/19/2023</td>\n",
       "      <td>East</td>\n",
       "      <td>Kreeti</td>\n",
       "      <td>Pen</td>\n",
       "      <td>32</td>\n",
       "      <td>1.99</td>\n",
       "      <td>63.68</td>\n",
       "      <td>3</td>\n",
       "    </tr>\n",
       "    <tr>\n",
       "      <th>9</th>\n",
       "      <td>04/19/2023</td>\n",
       "      <td>Central</td>\n",
       "      <td>Priya</td>\n",
       "      <td>Pencil</td>\n",
       "      <td>36</td>\n",
       "      <td>4.99</td>\n",
       "      <td>179.64</td>\n",
       "      <td>1</td>\n",
       "    </tr>\n",
       "    <tr>\n",
       "      <th>10</th>\n",
       "      <td>04/10/2023</td>\n",
       "      <td>West</td>\n",
       "      <td>Preeti</td>\n",
       "      <td>Pen</td>\n",
       "      <td>27</td>\n",
       "      <td>19.99</td>\n",
       "      <td>539.73</td>\n",
       "      <td>2</td>\n",
       "    </tr>\n",
       "    <tr>\n",
       "      <th>11</th>\n",
       "      <td>04/20/2023</td>\n",
       "      <td>East</td>\n",
       "      <td>Mohit</td>\n",
       "      <td>Pencil</td>\n",
       "      <td>56</td>\n",
       "      <td>2.99</td>\n",
       "      <td>164.44</td>\n",
       "      <td>1</td>\n",
       "    </tr>\n",
       "    <tr>\n",
       "      <th>12</th>\n",
       "      <td>04/17/2023</td>\n",
       "      <td>Central</td>\n",
       "      <td>Sohan</td>\n",
       "      <td>Binder</td>\n",
       "      <td>60</td>\n",
       "      <td>4.99</td>\n",
       "      <td>299.40</td>\n",
       "      <td>2</td>\n",
       "    </tr>\n",
       "    <tr>\n",
       "      <th>13</th>\n",
       "      <td>04/15/2023</td>\n",
       "      <td>Central</td>\n",
       "      <td>Sam</td>\n",
       "      <td>Pen</td>\n",
       "      <td>75</td>\n",
       "      <td>1.99</td>\n",
       "      <td>149.25</td>\n",
       "      <td>5</td>\n",
       "    </tr>\n",
       "    <tr>\n",
       "      <th>14</th>\n",
       "      <td>04/15/2023</td>\n",
       "      <td>West</td>\n",
       "      <td>Ankush</td>\n",
       "      <td>Pencil</td>\n",
       "      <td>90</td>\n",
       "      <td>4.99</td>\n",
       "      <td>449.10</td>\n",
       "      <td>6</td>\n",
       "    </tr>\n",
       "    <tr>\n",
       "      <th>15</th>\n",
       "      <td>04/19/2023</td>\n",
       "      <td>East</td>\n",
       "      <td>Kreeti</td>\n",
       "      <td>Pen</td>\n",
       "      <td>32</td>\n",
       "      <td>1.99</td>\n",
       "      <td>63.68</td>\n",
       "      <td>4</td>\n",
       "    </tr>\n",
       "  </tbody>\n",
       "</table>\n",
       "</div>"
      ],
      "text/plain": [
       "     OrderDate   Region Representative   Items  Units  Unit Cover  Revenue  \\\n",
       "0   04/18/2023     East          Sohan  Pencil     95        1.99   189.05   \n",
       "1   04/28/2023  Central          Sohan  Binder     50       19.99   999.50   \n",
       "2   04/19/2023  Central          Priya  Pencil     36        4.99   179.64   \n",
       "3   04/10/2023     West         Preeti     Pen     27       19.99   539.73   \n",
       "4   04/20/2023     East          Sohan  Pencil     56        2.99   167.44   \n",
       "5   04/17/2023  Central          Meera  Binder     60        4.99   299.40   \n",
       "6   04/15/2023  Central            Sam     Pen     75        1.99   149.25   \n",
       "7   04/15/2023     West         Ankush  Pencil     90        4.99   449.10   \n",
       "8   04/19/2023     East         Kreeti     Pen     32        1.99    63.68   \n",
       "9   04/19/2023  Central          Priya  Pencil     36        4.99   179.64   \n",
       "10  04/10/2023     West         Preeti     Pen     27       19.99   539.73   \n",
       "11  04/20/2023     East          Mohit  Pencil     56        2.99   164.44   \n",
       "12  04/17/2023  Central          Sohan  Binder     60        4.99   299.40   \n",
       "13  04/15/2023  Central            Sam     Pen     75        1.99   149.25   \n",
       "14  04/15/2023     West         Ankush  Pencil     90        4.99   449.10   \n",
       "15  04/19/2023     East         Kreeti     Pen     32        1.99    63.68   \n",
       "\n",
       "    Sales  \n",
       "0       8  \n",
       "1       4  \n",
       "2       3  \n",
       "3       5  \n",
       "4       8  \n",
       "5       2  \n",
       "6       1  \n",
       "7       4  \n",
       "8       3  \n",
       "9       1  \n",
       "10      2  \n",
       "11      1  \n",
       "12      2  \n",
       "13      5  \n",
       "14      6  \n",
       "15      4  "
      ]
     },
     "execution_count": 43,
     "metadata": {},
     "output_type": "execute_result"
    }
   ],
   "source": [
    "df"
   ]
  },
  {
   "cell_type": "markdown",
   "id": "f17858b7",
   "metadata": {},
   "source": [
    "# Find the total sales in east region"
   ]
  },
  {
   "cell_type": "code",
   "execution_count": 44,
   "id": "b5a21c27",
   "metadata": {},
   "outputs": [
    {
     "name": "stdout",
     "output_type": "stream",
     "text": [
      "Total Sales in East Region 24.0\n"
     ]
    }
   ],
   "source": [
    "east_sales = df['Sales'].where(df['Region'] == 'East' ).sum()\n",
    "print(\"Total Sales in East Region\",east_sales)"
   ]
  },
  {
   "cell_type": "markdown",
   "id": "e3216934",
   "metadata": {},
   "source": [
    "# what were the total revenue generated from binder , pencil , pen"
   ]
  },
  {
   "cell_type": "code",
   "execution_count": null,
   "id": "c6e7afda",
   "metadata": {},
   "outputs": [],
   "source": []
  },
  {
   "cell_type": "code",
   "execution_count": 45,
   "id": "2abcebcd",
   "metadata": {},
   "outputs": [
    {
     "name": "stdout",
     "output_type": "stream",
     "text": [
      "Revenue from Binder 1598.3\n",
      "Revenue from Binder 1505.3200000000002\n",
      "Revenue from Binder 1778.41\n"
     ]
    }
   ],
   "source": [
    "Revenue_Binder = df['Revenue'].where(df['Items'] == 'Binder').sum()\n",
    "Revenue_Pen = df['Revenue'].where(df['Items'] == 'Pen').sum()\n",
    "Revenue_Pencil = df['Revenue'].where(df['Items'] == 'Pencil').sum()\n",
    "\n",
    "print(\"Revenue from Binder\",Revenue_Binder)\n",
    "print(\"Revenue from Binder\",Revenue_Pen)\n",
    "print(\"Revenue from Binder\",Revenue_Pencil)"
   ]
  },
  {
   "cell_type": "markdown",
   "id": "960a5248",
   "metadata": {},
   "source": [
    "# total revenue generated from the central region where the item is pencil , then pen then binder .¶"
   ]
  },
  {
   "cell_type": "code",
   "execution_count": 51,
   "id": "266ff1b2",
   "metadata": {},
   "outputs": [
    {
     "name": "stdout",
     "output_type": "stream",
     "text": [
      "Total Revenue generated from the central region where item is Pencil : 359.28\n",
      "Total Revenue generated from the central region where item is Pen : 298.5\n",
      "Total Revenue generated from the central region where item is Binder : 1598.3\n"
     ]
    }
   ],
   "source": [
    "rev_central_pencil = df['Revenue'].where((df['Region'] == 'Central') & (df['Items'] == 'Pencil')).sum()\n",
    "rev_central_pen = df['Revenue'].where((df['Region'] == 'Central') & (df['Items'] == 'Pen')).sum()\n",
    "rev_central_binder = df['Revenue'].where((df['Region'] == 'Central') & (df['Items'] == 'Binder')).sum()\n",
    "print(\"Total Revenue generated from the central region where item is Pencil :\",rev_central_pencil)\n",
    "print(\"Total Revenue generated from the central region where item is Pen :\",rev_central_pen)\n",
    "print(\"Total Revenue generated from the central region where item is Binder :\",rev_central_binder)"
   ]
  },
  {
   "cell_type": "markdown",
   "id": "4807086d",
   "metadata": {},
   "source": [
    "# total revenue generated from the East region where the item is pencil , then pen then binder ."
   ]
  },
  {
   "cell_type": "code",
   "execution_count": 52,
   "id": "c6dd392a",
   "metadata": {},
   "outputs": [
    {
     "name": "stdout",
     "output_type": "stream",
     "text": [
      "Total Revenue generated from the East region where item is Pencil : 520.9300000000001\n",
      "Total Revenue generated from the East region where item is Pen : 127.36\n",
      "Total Revenue generated from the East region where item is Binder : 0.0\n"
     ]
    }
   ],
   "source": [
    "rev_East_pencil = df['Revenue'].where((df['Region'] == 'East') & (df['Items'] == 'Pencil')).sum()\n",
    "rev_East_pen = df['Revenue'].where((df['Region'] == 'East') & (df['Items'] == 'Pen')).sum()\n",
    "rev_East_binder = df['Revenue'].where((df['Region'] == 'East') & (df['Items'] == 'Binder')).sum()\n",
    "print(\"Total Revenue generated from the East region where item is Pencil :\",rev_East_pencil)\n",
    "print(\"Total Revenue generated from the East region where item is Pen :\",rev_East_pen)\n",
    "print(\"Total Revenue generated from the East region where item is Binder :\",rev_East_binder)"
   ]
  },
  {
   "cell_type": "markdown",
   "id": "20b1857e",
   "metadata": {},
   "source": [
    "# total revenue generated from the West region where the item is pencil , then pen then binder ."
   ]
  },
  {
   "cell_type": "code",
   "execution_count": 53,
   "id": "2bf3815a",
   "metadata": {},
   "outputs": [
    {
     "name": "stdout",
     "output_type": "stream",
     "text": [
      "Total Revenue generated from the West Region where item is Pencil : 898.2\n",
      "Total Revenue generated from the West Region where item is Pen : 1079.46\n",
      "Total Revenue generated from the West Region where item is Binder : 0.0\n"
     ]
    }
   ],
   "source": [
    "rev_West_pencil = df['Revenue'].where((df['Region'] == 'West') & (df['Items'] == 'Pencil')).sum()\n",
    "rev_West_pen = df['Revenue'].where((df['Region'] == 'West') & (df['Items']=='Pen')).sum()\n",
    "rev_West_binder = df['Revenue'].where((df['Region'] == 'West') & (df['Items']=='Binder')).sum()\n",
    "\n",
    "print(\"Total Revenue generated from the West Region where item is Pencil :\",rev_West_pencil)\n",
    "print(\"Total Revenue generated from the West Region where item is Pen :\",rev_West_pen)\n",
    "print(\"Total Revenue generated from the West Region where item is Binder :\",rev_West_binder)\n"
   ]
  },
  {
   "cell_type": "code",
   "execution_count": 71,
   "id": "c9dc83c8",
   "metadata": {},
   "outputs": [
    {
     "data": {
      "text/html": [
       "<div>\n",
       "<style scoped>\n",
       "    .dataframe tbody tr th:only-of-type {\n",
       "        vertical-align: middle;\n",
       "    }\n",
       "\n",
       "    .dataframe tbody tr th {\n",
       "        vertical-align: top;\n",
       "    }\n",
       "\n",
       "    .dataframe thead th {\n",
       "        text-align: right;\n",
       "    }\n",
       "</style>\n",
       "<table border=\"1\" class=\"dataframe\">\n",
       "  <thead>\n",
       "    <tr style=\"text-align: right;\">\n",
       "      <th></th>\n",
       "      <th>OrderDate</th>\n",
       "      <th>Region</th>\n",
       "      <th>Representative</th>\n",
       "      <th>Items</th>\n",
       "      <th>Units</th>\n",
       "      <th>Unit Cover</th>\n",
       "      <th>Revenue</th>\n",
       "      <th>Sales</th>\n",
       "    </tr>\n",
       "  </thead>\n",
       "  <tbody>\n",
       "    <tr>\n",
       "      <th>0</th>\n",
       "      <td>04/18/2023</td>\n",
       "      <td>East</td>\n",
       "      <td>Sohan</td>\n",
       "      <td>Pencil</td>\n",
       "      <td>95</td>\n",
       "      <td>1.99</td>\n",
       "      <td>189.05</td>\n",
       "      <td>8</td>\n",
       "    </tr>\n",
       "    <tr>\n",
       "      <th>1</th>\n",
       "      <td>04/28/2023</td>\n",
       "      <td>Central</td>\n",
       "      <td>Sohan</td>\n",
       "      <td>Binder</td>\n",
       "      <td>50</td>\n",
       "      <td>19.99</td>\n",
       "      <td>999.50</td>\n",
       "      <td>4</td>\n",
       "    </tr>\n",
       "    <tr>\n",
       "      <th>2</th>\n",
       "      <td>04/19/2023</td>\n",
       "      <td>Central</td>\n",
       "      <td>Priya</td>\n",
       "      <td>Pencil</td>\n",
       "      <td>36</td>\n",
       "      <td>4.99</td>\n",
       "      <td>179.64</td>\n",
       "      <td>3</td>\n",
       "    </tr>\n",
       "    <tr>\n",
       "      <th>3</th>\n",
       "      <td>04/10/2023</td>\n",
       "      <td>West</td>\n",
       "      <td>Preeti</td>\n",
       "      <td>Pen</td>\n",
       "      <td>27</td>\n",
       "      <td>19.99</td>\n",
       "      <td>539.73</td>\n",
       "      <td>5</td>\n",
       "    </tr>\n",
       "    <tr>\n",
       "      <th>4</th>\n",
       "      <td>04/20/2023</td>\n",
       "      <td>East</td>\n",
       "      <td>Sohan</td>\n",
       "      <td>Pencil</td>\n",
       "      <td>56</td>\n",
       "      <td>2.99</td>\n",
       "      <td>167.44</td>\n",
       "      <td>8</td>\n",
       "    </tr>\n",
       "    <tr>\n",
       "      <th>5</th>\n",
       "      <td>04/17/2023</td>\n",
       "      <td>Central</td>\n",
       "      <td>Meera</td>\n",
       "      <td>Binder</td>\n",
       "      <td>60</td>\n",
       "      <td>4.99</td>\n",
       "      <td>299.40</td>\n",
       "      <td>2</td>\n",
       "    </tr>\n",
       "    <tr>\n",
       "      <th>6</th>\n",
       "      <td>04/15/2023</td>\n",
       "      <td>Central</td>\n",
       "      <td>Sam</td>\n",
       "      <td>Pen</td>\n",
       "      <td>75</td>\n",
       "      <td>1.99</td>\n",
       "      <td>149.25</td>\n",
       "      <td>1</td>\n",
       "    </tr>\n",
       "    <tr>\n",
       "      <th>7</th>\n",
       "      <td>04/15/2023</td>\n",
       "      <td>West</td>\n",
       "      <td>Ankush</td>\n",
       "      <td>Pencil</td>\n",
       "      <td>90</td>\n",
       "      <td>4.99</td>\n",
       "      <td>449.10</td>\n",
       "      <td>4</td>\n",
       "    </tr>\n",
       "    <tr>\n",
       "      <th>8</th>\n",
       "      <td>04/19/2023</td>\n",
       "      <td>East</td>\n",
       "      <td>Kreeti</td>\n",
       "      <td>Pen</td>\n",
       "      <td>32</td>\n",
       "      <td>1.99</td>\n",
       "      <td>63.68</td>\n",
       "      <td>3</td>\n",
       "    </tr>\n",
       "    <tr>\n",
       "      <th>9</th>\n",
       "      <td>04/19/2023</td>\n",
       "      <td>Central</td>\n",
       "      <td>Priya</td>\n",
       "      <td>Pencil</td>\n",
       "      <td>36</td>\n",
       "      <td>4.99</td>\n",
       "      <td>179.64</td>\n",
       "      <td>1</td>\n",
       "    </tr>\n",
       "    <tr>\n",
       "      <th>10</th>\n",
       "      <td>04/10/2023</td>\n",
       "      <td>West</td>\n",
       "      <td>Preeti</td>\n",
       "      <td>Pen</td>\n",
       "      <td>27</td>\n",
       "      <td>19.99</td>\n",
       "      <td>539.73</td>\n",
       "      <td>2</td>\n",
       "    </tr>\n",
       "    <tr>\n",
       "      <th>11</th>\n",
       "      <td>04/20/2023</td>\n",
       "      <td>East</td>\n",
       "      <td>Mohit</td>\n",
       "      <td>Pencil</td>\n",
       "      <td>56</td>\n",
       "      <td>2.99</td>\n",
       "      <td>164.44</td>\n",
       "      <td>1</td>\n",
       "    </tr>\n",
       "    <tr>\n",
       "      <th>12</th>\n",
       "      <td>04/17/2023</td>\n",
       "      <td>Central</td>\n",
       "      <td>Sohan</td>\n",
       "      <td>Binder</td>\n",
       "      <td>60</td>\n",
       "      <td>4.99</td>\n",
       "      <td>299.40</td>\n",
       "      <td>2</td>\n",
       "    </tr>\n",
       "    <tr>\n",
       "      <th>13</th>\n",
       "      <td>04/15/2023</td>\n",
       "      <td>Central</td>\n",
       "      <td>Sam</td>\n",
       "      <td>Pen</td>\n",
       "      <td>75</td>\n",
       "      <td>1.99</td>\n",
       "      <td>149.25</td>\n",
       "      <td>5</td>\n",
       "    </tr>\n",
       "    <tr>\n",
       "      <th>14</th>\n",
       "      <td>04/15/2023</td>\n",
       "      <td>West</td>\n",
       "      <td>Ankush</td>\n",
       "      <td>Pencil</td>\n",
       "      <td>90</td>\n",
       "      <td>4.99</td>\n",
       "      <td>449.10</td>\n",
       "      <td>6</td>\n",
       "    </tr>\n",
       "    <tr>\n",
       "      <th>15</th>\n",
       "      <td>04/19/2023</td>\n",
       "      <td>East</td>\n",
       "      <td>Kreeti</td>\n",
       "      <td>Pen</td>\n",
       "      <td>32</td>\n",
       "      <td>1.99</td>\n",
       "      <td>63.68</td>\n",
       "      <td>4</td>\n",
       "    </tr>\n",
       "  </tbody>\n",
       "</table>\n",
       "</div>"
      ],
      "text/plain": [
       "     OrderDate   Region Representative   Items  Units  Unit Cover  Revenue  \\\n",
       "0   04/18/2023     East          Sohan  Pencil     95        1.99   189.05   \n",
       "1   04/28/2023  Central          Sohan  Binder     50       19.99   999.50   \n",
       "2   04/19/2023  Central          Priya  Pencil     36        4.99   179.64   \n",
       "3   04/10/2023     West         Preeti     Pen     27       19.99   539.73   \n",
       "4   04/20/2023     East          Sohan  Pencil     56        2.99   167.44   \n",
       "5   04/17/2023  Central          Meera  Binder     60        4.99   299.40   \n",
       "6   04/15/2023  Central            Sam     Pen     75        1.99   149.25   \n",
       "7   04/15/2023     West         Ankush  Pencil     90        4.99   449.10   \n",
       "8   04/19/2023     East         Kreeti     Pen     32        1.99    63.68   \n",
       "9   04/19/2023  Central          Priya  Pencil     36        4.99   179.64   \n",
       "10  04/10/2023     West         Preeti     Pen     27       19.99   539.73   \n",
       "11  04/20/2023     East          Mohit  Pencil     56        2.99   164.44   \n",
       "12  04/17/2023  Central          Sohan  Binder     60        4.99   299.40   \n",
       "13  04/15/2023  Central            Sam     Pen     75        1.99   149.25   \n",
       "14  04/15/2023     West         Ankush  Pencil     90        4.99   449.10   \n",
       "15  04/19/2023     East         Kreeti     Pen     32        1.99    63.68   \n",
       "\n",
       "    Sales  \n",
       "0       8  \n",
       "1       4  \n",
       "2       3  \n",
       "3       5  \n",
       "4       8  \n",
       "5       2  \n",
       "6       1  \n",
       "7       4  \n",
       "8       3  \n",
       "9       1  \n",
       "10      2  \n",
       "11      1  \n",
       "12      2  \n",
       "13      5  \n",
       "14      6  \n",
       "15      4  "
      ]
     },
     "execution_count": 71,
     "metadata": {},
     "output_type": "execute_result"
    }
   ],
   "source": [
    "df.head(40)"
   ]
  },
  {
   "cell_type": "markdown",
   "id": "62a1733b",
   "metadata": {},
   "source": [
    "# How many units were sold by sales representative sohan where the cost of each item were greater then 4."
   ]
  },
  {
   "cell_type": "code",
   "execution_count": 72,
   "id": "f942099f",
   "metadata": {},
   "outputs": [
    {
     "name": "stdout",
     "output_type": "stream",
     "text": [
      "Units sold by Soham where cost per unit greater than 4 110.0\n"
     ]
    }
   ],
   "source": [
    "sohan_sales = df['Units'].where((df['Representative'] == 'Sohan') & (df['Unit Cover'] > 4) ).sum()\n",
    "print(\"Units sold by Soham where cost per unit greater than 4\",sohan_sales)"
   ]
  },
  {
   "cell_type": "markdown",
   "id": "1c7cd3fe",
   "metadata": {},
   "source": [
    "# How many units were sohan sales excluding pencil"
   ]
  },
  {
   "cell_type": "code",
   "execution_count": 73,
   "id": "883c7c89",
   "metadata": {},
   "outputs": [
    {
     "name": "stdout",
     "output_type": "stream",
     "text": [
      "Total units sold by Sohan excluding pencil : 110.0\n"
     ]
    }
   ],
   "source": [
    "sohan_sales_notpencil= df['Units'].where((df['Representative'] == 'Sohan') & (df['Items'] != 'Pencil')).sum()\n",
    "print(\"Total units sold by Sohan excluding pencil :\",sohan_sales_notpencil)"
   ]
  },
  {
   "cell_type": "markdown",
   "id": "55dbea11",
   "metadata": {},
   "source": [
    "# How many units were Priya sales excluding pencil"
   ]
  },
  {
   "cell_type": "code",
   "execution_count": 74,
   "id": "c1010d8f",
   "metadata": {},
   "outputs": [
    {
     "name": "stdout",
     "output_type": "stream",
     "text": [
      "Total units sold by Priya excluding pencil : 0.0\n"
     ]
    }
   ],
   "source": [
    "Priya_sales_notpencil= df['Units'].where((df['Representative'] == 'Priya') & (df['Items'] != 'Pencil')).sum()\n",
    "print(\"Total units sold by Priya excluding pencil :\",Priya_sales_notpencil)"
   ]
  },
  {
   "cell_type": "markdown",
   "id": "c6f4e8b6",
   "metadata": {},
   "source": [
    "# How many units were Preeti sales excluding pencil"
   ]
  },
  {
   "cell_type": "code",
   "execution_count": 75,
   "id": "f4d52870",
   "metadata": {},
   "outputs": [
    {
     "name": "stdout",
     "output_type": "stream",
     "text": [
      "Total units sold by Preeti excluding pencil : 54.0\n"
     ]
    }
   ],
   "source": [
    "Preeti_sales_notpencil= df['Units'].where((df['Representative'] == 'Preeti') & (df['Items'] != 'Pencil')).sum()\n",
    "print(\"Total units sold by Preeti excluding pencil :\",Preeti_sales_notpencil)"
   ]
  },
  {
   "cell_type": "markdown",
   "id": "c82627e9",
   "metadata": {},
   "source": [
    "# Find the total number of times sohan has made a sale."
   ]
  },
  {
   "cell_type": "code",
   "execution_count": 79,
   "id": "827e4192",
   "metadata": {},
   "outputs": [
    {
     "name": "stdout",
     "output_type": "stream",
     "text": [
      "Total no. of sales made by Sohan : 22.0\n"
     ]
    }
   ],
   "source": [
    "sohan_total_no = df['Sales'].where(df['Representative']=='Sohan').sum()\n",
    "print(\"Total no. of sales made by Sohan :\",sohan_total_no)"
   ]
  },
  {
   "cell_type": "markdown",
   "id": "94c1d044",
   "metadata": {},
   "source": [
    "# Find the total number of times Priya has made a sale."
   ]
  },
  {
   "cell_type": "code",
   "execution_count": 80,
   "id": "780013f4",
   "metadata": {},
   "outputs": [
    {
     "name": "stdout",
     "output_type": "stream",
     "text": [
      "Total no. of sales made by Priya : 4.0\n"
     ]
    }
   ],
   "source": [
    "priya_total_no = df['Sales'].where(df['Representative']=='Priya').sum()\n",
    "print(\"Total no. of sales made by Priya :\",priya_total_no)"
   ]
  },
  {
   "cell_type": "markdown",
   "id": "2f4271b9",
   "metadata": {},
   "source": [
    "# Find the total number of times Preeti has made a sale."
   ]
  },
  {
   "cell_type": "code",
   "execution_count": 81,
   "id": "d224fcfd",
   "metadata": {},
   "outputs": [
    {
     "name": "stdout",
     "output_type": "stream",
     "text": [
      "Total no. of sales made by Priya : 7.0\n"
     ]
    }
   ],
   "source": [
    "preeti_total_no = df['Sales'].where(df['Representative']=='Preeti').sum()\n",
    "print(\"Total no. of sales made by Priya :\",preeti_total_no)"
   ]
  },
  {
   "cell_type": "markdown",
   "id": "5ac77803",
   "metadata": {},
   "source": [
    "# How many times did soham sells pencils"
   ]
  },
  {
   "cell_type": "code",
   "execution_count": 84,
   "id": "6c703c46",
   "metadata": {},
   "outputs": [
    {
     "name": "stdout",
     "output_type": "stream",
     "text": [
      "No. of times Sohan sells pencils 16.0\n"
     ]
    }
   ],
   "source": [
    "sohan_sale_pencils = df['Sales'].where((df['Representative'] == 'Sohan') & (df['Items'] == 'Pencil')).sum()\n",
    "print(\"No. of times Sohan sells pencils\",sohan_sale_pencils)"
   ]
  },
  {
   "cell_type": "code",
   "execution_count": null,
   "id": "8db2bd3a",
   "metadata": {},
   "outputs": [],
   "source": []
  }
 ],
 "metadata": {
  "kernelspec": {
   "display_name": "Python 3 (ipykernel)",
   "language": "python",
   "name": "python3"
  },
  "language_info": {
   "codemirror_mode": {
    "name": "ipython",
    "version": 3
   },
   "file_extension": ".py",
   "mimetype": "text/x-python",
   "name": "python",
   "nbconvert_exporter": "python",
   "pygments_lexer": "ipython3",
   "version": "3.10.9"
  }
 },
 "nbformat": 4,
 "nbformat_minor": 5
}
